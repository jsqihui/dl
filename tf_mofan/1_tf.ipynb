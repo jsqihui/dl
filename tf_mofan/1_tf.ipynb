{
 "cells": [
  {
   "cell_type": "code",
   "execution_count": 1,
   "metadata": {
    "collapsed": true
   },
   "outputs": [],
   "source": [
    "import tensorflow as tf\n",
    "import numpy as np"
   ]
  },
  {
   "cell_type": "code",
   "execution_count": 2,
   "metadata": {
    "collapsed": false
   },
   "outputs": [],
   "source": [
    "# create data\n",
    "x = np.random.rand(100).astype(np.float32)\n",
    "y = 3*x + 0.2"
   ]
  },
  {
   "cell_type": "code",
   "execution_count": 3,
   "metadata": {
    "collapsed": true
   },
   "outputs": [],
   "source": [
    "# construct network start\n",
    "# create weigths\n",
    "W = tf.Variable(tf.random_uniform([1], -0.1, 0.1))\n",
    "b = tf.Variable(tf.zeros([1]))"
   ]
  },
  {
   "cell_type": "code",
   "execution_count": 4,
   "metadata": {
    "collapsed": false
   },
   "outputs": [],
   "source": [
    "Y = W*x + b\n",
    "loss = tf.reduce_mean(tf.square(Y - y))\n",
    "optimizer = tf.train.GradientDescentOptimizer(0.1)\n",
    "train = optimizer.minimize(loss)\n",
    "# construct network end"
   ]
  },
  {
   "cell_type": "code",
   "execution_count": 5,
   "metadata": {
    "collapsed": false
   },
   "outputs": [
    {
     "name": "stdout",
     "output_type": "stream",
     "text": [
      "0 [ 0.27053434] [ 0.35128325]\n",
      "100 [ 2.31571865] [ 0.58176738]\n",
      "200 [ 2.78179955] [ 0.32173616]\n",
      "300 [ 2.93042159] [ 0.23881857]\n",
      "400 [ 2.97781348] [ 0.21237816]\n",
      "500 [ 2.99292564] [ 0.20394684]\n",
      "600 [ 2.99774408] [ 0.20125866]\n",
      "700 [ 2.99928141] [ 0.20040098]\n",
      "800 [ 2.99977064] [ 0.20012793]\n",
      "900 [ 2.99992633] [ 0.20004117]\n",
      "1000 [ 2.99997497] [ 0.20001385]\n"
     ]
    }
   ],
   "source": [
    "init = tf.global_variables_initializer()\n",
    "sess = tf.Session()\n",
    "sess.run(init)\n",
    "for step in range(1001):\n",
    "    sess.run(train)\n",
    "    if step % 100 == 0:\n",
    "        print step, sess.run(W), sess.run(b)"
   ]
  },
  {
   "cell_type": "code",
   "execution_count": null,
   "metadata": {
    "collapsed": true
   },
   "outputs": [],
   "source": []
  }
 ],
 "metadata": {
  "kernelspec": {
   "display_name": "Python 2",
   "language": "python",
   "name": "python2"
  },
  "language_info": {
   "codemirror_mode": {
    "name": "ipython",
    "version": 2
   },
   "file_extension": ".py",
   "mimetype": "text/x-python",
   "name": "python",
   "nbconvert_exporter": "python",
   "pygments_lexer": "ipython2",
   "version": "2.7.10"
  }
 },
 "nbformat": 4,
 "nbformat_minor": 0
}
