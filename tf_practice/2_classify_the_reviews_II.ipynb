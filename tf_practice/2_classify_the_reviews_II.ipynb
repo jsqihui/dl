{
 "cells": [
  {
   "cell_type": "code",
   "execution_count": 1,
   "metadata": {
    "collapsed": true
   },
   "outputs": [],
   "source": [
    "#http://www.voidcn.com/blog/u014365862/article/p-6355757.html"
   ]
  },
  {
   "cell_type": "code",
   "execution_count": 2,
   "metadata": {
    "collapsed": true
   },
   "outputs": [],
   "source": [
    "import nltk\n",
    "from nltk.tokenize import word_tokenize\n",
    "from nltk.stem import WordNetLemmatizer\n",
    " \n",
    "import pickle\n",
    "import numpy as np\n",
    "import pandas as pd\n",
    "from collections import OrderedDict"
   ]
  },
  {
   "cell_type": "code",
   "execution_count": 5,
   "metadata": {
    "collapsed": false
   },
   "outputs": [],
   "source": [
    "org_train_file = './data/p2/training.1600000.processed.noemoticon.csv'\n",
    "org_test_file = './data/p2/testdata.manual.2009.06.14.csv'\n",
    " \n",
    "# 提取文件中有用的字段\n",
    "def usefull_filed(org_file, output_file):\n",
    "    output = open(output_file, 'w')\n",
    "    with open(org_file, buffering=10000) as f:\n",
    "        try:\n",
    "            for line in f:                # \"4\",\"2193601966\",\"Tue Jun 16 08:40:49 PDT 2009\",\"NO_QUERY\",\"AmandaMarie1028\",\"Just woke up. Having no school is the best feeling ever \"\n",
    "                line = line.replace('\"', '')\n",
    "                clf = line.split(',')[0]   # 4\n",
    "                if clf == '0':\n",
    "                    clf = [0, 0, 1]  # 消极评论\n",
    "                elif clf == '2':\n",
    "                    clf = [0, 1, 0]  # 中性评论\n",
    "                elif clf == '4':\n",
    "                    clf = [1, 0, 0]  # 积极评论\n",
    " \n",
    "                tweet = line.split(',')[-1]\n",
    "                outputline = str(clf) + ':%:%:%:' + tweet\n",
    "                output.write(outputline)  # [0, 0, 1]:%:%:%: that's a bummer.  You shoulda got David Carr of Third Day to do it. ;D\n",
    "        except Exception as e:\n",
    "            print(e)\n",
    "    output.close()  # 处理完成，处理后文件大小127.5M\n",
    "\n",
    "usefull_filed(org_train_file, './data/p2/training.csv')\n",
    "usefull_filed(org_test_file, './data/p2/tesing.csv')"
   ]
  },
  {
   "cell_type": "code",
   "execution_count": 7,
   "metadata": {
    "collapsed": false
   },
   "outputs": [],
   "source": [
    "# 创建词汇表\n",
    "def create_lexicon(train_file):\n",
    "    lex = []\n",
    "    lemmatizer = WordNetLemmatizer()\n",
    "    with open(train_file, buffering=10000) as f:\n",
    "        try:\n",
    "            count_word = {}  # 统计单词出现次数\n",
    "            for line in f:\n",
    "                tweet = line.split(':%:%:%:')[1]\n",
    "                words = word_tokenize(line.lower())\n",
    "                for word in words:\n",
    "                    word = lemmatizer.lemmatize(word)\n",
    "                    if word not in count_word:\n",
    "                        count_word[word] = 1\n",
    "                    else:\n",
    "                        count_word[word] += 1\n",
    " \n",
    "            count_word = OrderedDict(sorted(count_word.items(), key=lambda t: t[1]))\n",
    "            for word in count_word:\n",
    "                if count_word[word] < 100000 and count_word[word] > 100:  # 过滤掉一些词\n",
    "                    lex.append(word)\n",
    "        except Exception as e:\n",
    "            print(e)\n",
    "    return lex"
   ]
  },
  {
   "cell_type": "code",
   "execution_count": null,
   "metadata": {
    "collapsed": true
   },
   "outputs": [],
   "source": []
  }
 ],
 "metadata": {
  "kernelspec": {
   "display_name": "Python 2",
   "language": "python",
   "name": "python2"
  },
  "language_info": {
   "codemirror_mode": {
    "name": "ipython",
    "version": 2
   },
   "file_extension": ".py",
   "mimetype": "text/x-python",
   "name": "python",
   "nbconvert_exporter": "python",
   "pygments_lexer": "ipython2",
   "version": "2.7.10"
  }
 },
 "nbformat": 4,
 "nbformat_minor": 0
}
