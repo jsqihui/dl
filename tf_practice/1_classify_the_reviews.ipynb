{
 "cells": [
  {
   "cell_type": "code",
   "execution_count": 1,
   "metadata": {
    "collapsed": false
   },
   "outputs": [
    {
     "data": {
      "text/plain": [
       "'\\n\\xe8\\xaf\\x8d\\xe5\\xbd\\xa2\\xe8\\xbf\\x98\\xe5\\x8e\\x9f(lemmatizer)\\xef\\xbc\\x8c\\xe5\\x8d\\xb3\\xe6\\x8a\\x8a\\xe4\\xb8\\x80\\xe4\\xb8\\xaa\\xe4\\xbb\\xbb\\xe4\\xbd\\x95\\xe5\\xbd\\xa2\\xe5\\xbc\\x8f\\xe7\\x9a\\x84\\xe8\\x8b\\xb1\\xe8\\xaf\\xad\\xe5\\x8d\\x95\\xe8\\xaf\\x8d\\xe8\\xbf\\x98\\xe5\\x8e\\x9f\\xe5\\x88\\xb0\\xe4\\xb8\\x80\\xe8\\x88\\xac\\xe5\\xbd\\xa2\\xe5\\xbc\\x8f\\xef\\xbc\\x8c\\xe4\\xb8\\x8e\\xe8\\xaf\\x8d\\xe6\\xa0\\xb9\\xe8\\xbf\\x98\\xe5\\x8e\\x9f\\xe4\\xb8\\x8d\\xe5\\x90\\x8c(stemmer)\\xef\\xbc\\x8c\\xe5\\x90\\x8e\\xe8\\x80\\x85\\xe6\\x98\\xaf\\xe6\\x8a\\xbd\\xe5\\x8f\\x96\\xe4\\xb8\\x80\\xe4\\xb8\\xaa\\xe5\\x8d\\x95\\xe8\\xaf\\x8d\\xe7\\x9a\\x84\\xe8\\xaf\\x8d\\xe6\\xa0\\xb9\\xe3\\x80\\x82\\n'"
      ]
     },
     "execution_count": 1,
     "metadata": {},
     "output_type": "execute_result"
    }
   ],
   "source": [
    "# original : http://www.voidcn.com/blog/u014365862/article/p-6355756.html\n",
    "\n",
    "import tensorflow as tf\n",
    "import numpy as np\n",
    "import nltk\n",
    "import random\n",
    "import pickle\n",
    "from collections import Counter\n",
    " \n",
    "import nltk\n",
    "from nltk.tokenize import word_tokenize\n",
    "from nltk.stem import WordNetLemmatizer\n",
    "\"\"\"\n",
    "词形还原(lemmatizer)，即把一个任何形式的英语单词还原到一般形式，与词根还原不同(stemmer)，后者是抽取一个单词的词根。\n",
    "\"\"\""
   ]
  },
  {
   "cell_type": "code",
   "execution_count": 2,
   "metadata": {
    "collapsed": false
   },
   "outputs": [],
   "source": [
    "# 创建词汇表\n",
    "pos_file = \"./data/p1/pos.txt\"\n",
    "neg_file = \"./data/p1/neg.txt\"\n",
    "def create_lexicon(pos_file, neg_file, upper=0.9, lower=0.0001): # TODO 如何选择这里的lower和upper？\n",
    "    lex = []\n",
    "    # 读取文件\n",
    "    def process_file(f):\n",
    "        with open(pos_file, 'r') as f:\n",
    "            lex = []\n",
    "            lines = f.readlines()\n",
    "            for line in lines:\n",
    "                try:\n",
    "                    words = word_tokenize(line.lower())\n",
    "                    lex += words\n",
    "                except Exception:\n",
    "                    continue\n",
    "            return lex\n",
    "    def is_ascii(s):\n",
    "        return all(ord(c) < 128 for c in s)\n",
    "    \n",
    "    lex += process_file(pos_file)\n",
    "    lex += process_file(neg_file)\n",
    "    # lex 包含了两个文件中所有的词汇\n",
    "    lemmatizer = WordNetLemmatizer()\n",
    "    lex = [lemmatizer.lemmatize(word) for word in lex if is_ascii(word)] # 词形还原 (cats->cat)\n",
    "    word_count = Counter(lex)\n",
    "    # {'.': 13944, ',': 10536, 'the': 10120, 'a': 9444, 'and': 7108, 'of': 6624, 'it': 4748, 'to': 3940......}\n",
    "    # 去掉一些常用词,像the,a and等等，和一些不常用词; 这些词对判断一个评论是正面还是负面没有做任何贡献\n",
    "    ret = []\n",
    "    for word in word_count:\n",
    "        if word_count[word] < len(lex) * upper and word_count[word] > len(lex) * lower:  # 这写死了，好像能用百分比\n",
    "            ret.append(word)        # 齐普夫定律-使用Python验证文本的Zipf分布 http://blog.topspeedsnail.com/archives/9546\n",
    "    return ret"
   ]
  },
  {
   "cell_type": "code",
   "execution_count": 3,
   "metadata": {
    "collapsed": false
   },
   "outputs": [],
   "source": [
    "res = create_lexicon(pos_file, neg_file)"
   ]
  },
  {
   "cell_type": "code",
   "execution_count": 4,
   "metadata": {
    "collapsed": false
   },
   "outputs": [
    {
     "data": {
      "text/plain": [
       "1006"
      ]
     },
     "execution_count": 4,
     "metadata": {},
     "output_type": "execute_result"
    }
   ],
   "source": [
    "len(res)"
   ]
  },
  {
   "cell_type": "code",
   "execution_count": 5,
   "metadata": {
    "collapsed": false
   },
   "outputs": [],
   "source": [
    "# 把每条评论转换为向量, 转换原理：\n",
    "# 假设lex为['woman', 'great', 'feel', 'actually', 'looking', 'latest', 'seen', 'is'] 当然实际上要大的多\n",
    "# 评论'i think this movie is great' 转换为 [0,1,0,0,0,0,0,1], 把评论中出现的字在lex中标记，出现过的标记为1，其余标记为0\n",
    "def normalize_dataset(lex):\n",
    "    dataset = []\n",
    "    # lex:词汇表；review:评论；clf:评论对应的分类，[0,1]代表负面评论 [1,0]代表正面评论 \n",
    "    def string_to_vector(lex, review, clf):\n",
    "        words = word_tokenize(line.lower())\n",
    "        lemmatizer = WordNetLemmatizer()\n",
    "        words = [lemmatizer.lemmatize(word) for word in words]\n",
    "        \n",
    "        features = np.zeros(len(lex))\n",
    "        for word in words:\n",
    "            if word in lex:\n",
    "                features[lex.index(word)] = 1  # 一个句子中某个词可能出现两次,可以用+=1，其实区别不大\n",
    "        return [features, clf]\n",
    " \n",
    "    with open(pos_file, 'r') as f:\n",
    "        lines = f.readlines()\n",
    "        for line in lines:\n",
    "            try:\n",
    "                one_sample = string_to_vector(lex, line, [1,0])  # [array([ 0.,  1.,  0., ...,  0.,  0.,  0.]), [1,0]]\n",
    "                dataset.append(one_sample)\n",
    "            except Exception:\n",
    "                continue\n",
    "    with open(neg_file, 'r') as f:\n",
    "        lines = f.readlines()\n",
    "        for line in lines:\n",
    "            try:\n",
    "                one_sample = string_to_vector(lex, line, [0,1])  # [array([ 0.,  0.,  0., ...,  0.,  0.,  0.]), [0,1]]]\n",
    "                dataset.append(one_sample)\n",
    "            except Exception:\n",
    "                continue\n",
    "    #print(len(dataset))\n",
    "    return dataset\n",
    " \n",
    "dataset = normalize_dataset(res)\n",
    "random.shuffle(dataset)"
   ]
  },
  {
   "cell_type": "code",
   "execution_count": 6,
   "metadata": {
    "collapsed": false
   },
   "outputs": [],
   "source": [
    "#把整理好的数据保存到文件，方便使用。到此完成了数据的整理工作\n",
    "with open('./data/p1/save.pickle', 'wb') as f:\n",
    "    pickle.dump(dataset, f)"
   ]
  },
  {
   "cell_type": "code",
   "execution_count": 7,
   "metadata": {
    "collapsed": false
   },
   "outputs": [],
   "source": [
    "# 取样本中的10%做为测试数据\n",
    "test_size = int(len(dataset) * 0.1)\n",
    " \n",
    "dataset = np.array(dataset)\n",
    " \n",
    "train_dataset = dataset[:-test_size]\n",
    "test_dataset = dataset[-test_size:]\n",
    " \n",
    "# Feed-Forward Neural Network\n",
    "# 定义每个层有多少'神经元''\n",
    "n_input_layer = len(res)  # 输入层\n",
    " \n",
    "n_layer_1 = 1024    # hiden layer\n",
    "n_layer_2 = 512    # hiden layer(隐藏层)听着很神秘，其实就是除输入输出层外的中间层\n",
    "n_layer_3 = 256    # hiden layer\n",
    "\n",
    "n_output_layer = 2       # 输出层"
   ]
  },
  {
   "cell_type": "code",
   "execution_count": 8,
   "metadata": {
    "collapsed": true
   },
   "outputs": [],
   "source": [
    "# 定义待训练的神经网络\n",
    "def neural_network(data):\n",
    "    # 定义第一层\"神经元\"的权重和biases\n",
    "    layer_1_w_b = {'w_':tf.Variable(tf.random_normal([n_input_layer, n_layer_1])), 'b_':tf.Variable(tf.random_normal([n_layer_1]))}\n",
    "    # 定义第二层\"神经元\"的权重和biases\n",
    "    layer_2_w_b = {'w_':tf.Variable(tf.random_normal([n_layer_1, n_layer_2])), 'b_':tf.Variable(tf.random_normal([n_layer_2]))}\n",
    "    # 定义输出层\"神经元\"的权重和biases\n",
    "    layer_3_w_b = {'w_':tf.Variable(tf.random_normal([n_layer_2, n_layer_3])), 'b_':tf.Variable(tf.random_normal([n_layer_3]))}\n",
    "    # 定义输出层\"神经元\"的权重和biases\n",
    "    layer_output_w_b = {'w_':tf.Variable(tf.random_normal([n_layer_3, n_output_layer])), 'b_':tf.Variable(tf.random_normal([n_output_layer]))}\n",
    " \n",
    "    # w·x+b\n",
    "    # data n*1006, layer1 1006*1000, layer2 1000*1000, output, 1000*2\n",
    "    layer_1 = tf.add(tf.matmul(data, layer_1_w_b['w_']), layer_1_w_b['b_'])\n",
    "    layer_1 = tf.nn.relu(layer_1)  # 激活函数\n",
    "    layer_2 = tf.add(tf.matmul(layer_1, layer_2_w_b['w_']), layer_2_w_b['b_'])\n",
    "    layer_2 = tf.nn.relu(layer_2 ) # 激活函数\n",
    "    layer_3 = tf.add(tf.matmul(layer_2, layer_3_w_b['w_']), layer_3_w_b['b_'])\n",
    "    layer_3 = tf.nn.relu(layer_3 ) # 激活函数\n",
    "    layer_output = tf.add(tf.matmul(layer_3, layer_output_w_b['w_']), layer_output_w_b['b_'])\n",
    "    \n",
    "    return layer_output"
   ]
  },
  {
   "cell_type": "code",
   "execution_count": 9,
   "metadata": {
    "collapsed": true
   },
   "outputs": [],
   "source": [
    "# 每次使用128条数据进行训练\n",
    "batch_size = 64\n",
    " \n",
    "X = tf.placeholder('float', [None, len(train_dataset[0][0])]) \n",
    "#[None, len(train_x)]代表数据数据的高和宽（矩阵），好处是如果数据不符合宽高，tensorflow会报错，不指定也可以。\n",
    "Y = tf.placeholder('float')"
   ]
  },
  {
   "cell_type": "code",
   "execution_count": 10,
   "metadata": {
    "collapsed": false
   },
   "outputs": [
    {
     "name": "stdout",
     "output_type": "stream",
     "text": [
      "(0, ' : ', 355273.65789794922)\n",
      "(1, ' : ', 355273.65789794922)\n",
      "(2, ' : ', 355273.65789794922)\n",
      "(3, ' : ', 355273.65789794922)\n",
      "(4, ' : ', 355273.65789794922)\n",
      "(5, ' : ', 355273.65789794922)\n",
      "(6, ' : ', 355273.65789794922)\n",
      "(7, ' : ', 355273.65789794922)\n",
      "(8, ' : ', 355273.65789794922)\n",
      "(9, ' : ', 355273.65789794922)\n",
      "(10, ' : ', 355273.65789794922)\n",
      "(11, ' : ', 355273.65789794922)\n",
      "(12, ' : ', 355273.65789794922)\n",
      "(13, ' : ', 355273.65789794922)\n",
      "(14, ' : ', 355273.65789794922)\n",
      "(15, ' : ', 355273.65789794922)\n",
      "(16, ' : ', 355273.65789794922)\n",
      "(17, ' : ', 355273.65789794922)\n",
      "(18, ' : ', 355273.65789794922)\n",
      "(19, ' : ', 355273.65789794922)\n",
      "('Accuracy: ', 0.65292424)\n"
     ]
    }
   ],
   "source": [
    "# 使用数据训练神经网络\n",
    "def train_neural_network(X, Y):\n",
    "    predict = neural_network(X)\n",
    "    cost_func = tf.reduce_mean(tf.nn.softmax_cross_entropy_with_logits(predict, Y))\n",
    "    optimizer = tf.train.AdamOptimizer().minimize(cost_func)  # learning rate 默认 0.001 \n",
    "    \n",
    "    epochs = 20\n",
    "    with tf.Session() as session:\n",
    "        session.run(tf.global_variables_initializer())\n",
    "        epoch_loss = 0\n",
    " \n",
    "        i = 0\n",
    "        random.shuffle(train_dataset)\n",
    "        train_x = dataset[:, 0]\n",
    "        train_y = dataset[:, 1]\n",
    "        for epoch in range(epochs):\n",
    "            while i < len(train_x):\n",
    "                # create batch\n",
    "                start = i\n",
    "                end = i + batch_size\n",
    " \n",
    "                batch_x = train_x[start:end]\n",
    "                batch_y = train_y[start:end]\n",
    " \n",
    "                _, c = session.run([optimizer, cost_func], feed_dict={X:list(batch_x),Y:list(batch_y)})\n",
    "                epoch_loss += c\n",
    "                i += batch_size\n",
    " \n",
    "            print(epoch, ' : ', epoch_loss)\n",
    " \n",
    "        text_x = test_dataset[: ,0]\n",
    "        text_y = test_dataset[:, 1]\n",
    "        correct = tf.equal(tf.argmax(predict,1), tf.argmax(Y,1))\n",
    "        accuracy = tf.reduce_mean(tf.cast(correct,'float'))\n",
    "        print('Accuracy: ', accuracy.eval({X:list(text_x) , Y:list(text_y)}))\n",
    "        \n",
    "train_neural_network(X,Y)"
   ]
  },
  {
   "cell_type": "code",
   "execution_count": null,
   "metadata": {
    "collapsed": true
   },
   "outputs": [],
   "source": []
  },
  {
   "cell_type": "code",
   "execution_count": null,
   "metadata": {
    "collapsed": true
   },
   "outputs": [],
   "source": []
  }
 ],
 "metadata": {
  "kernelspec": {
   "display_name": "Python 2",
   "language": "python",
   "name": "python2"
  },
  "language_info": {
   "codemirror_mode": {
    "name": "ipython",
    "version": 2
   },
   "file_extension": ".py",
   "mimetype": "text/x-python",
   "name": "python",
   "nbconvert_exporter": "python",
   "pygments_lexer": "ipython2",
   "version": "2.7.10"
  }
 },
 "nbformat": 4,
 "nbformat_minor": 0
}
